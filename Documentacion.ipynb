{
 "cells": [
  {
   "cell_type": "markdown",
   "id": "07caa6fe-cfb6-4f8c-bdcb-1fd47c976cd2",
   "metadata": {},
   "source": [
    "# Guía para Crear una API con Python y Flask\n",
    "\n",
    "En este notebook aprenderás a construir una API básica con Flask. \n",
    "Este ejemplo incluye configuraciones iniciales, middlewares, manejo de rutas y controladores.\n"
   ]
  },
  {
   "cell_type": "markdown",
   "id": "aa10a396-1682-47ff-bc00-82ee87bb8aa5",
   "metadata": {},
   "source": [
    " ## 1. Instalación y Configuración Inicial\n",
    "\n",
    " ### Instalar Flask y Flask-CORS\n",
    " Ejecuta el siguiente comando en una celda de código o terminal para instalar Flask y Flask-CORS:\n"
   ]
  },
  {
   "cell_type": "code",
   "execution_count": 3,
   "id": "bba5492f-46cc-46c3-95ac-6b61b229d3fb",
   "metadata": {},
   "outputs": [
    {
     "name": "stdout",
     "output_type": "stream",
     "text": [
      "Requirement already satisfied: flask in c:\\users\\eduar\\appdata\\local\\programs\\python\\python312\\lib\\site-packages (3.0.3)\n",
      "Requirement already satisfied: flask-cors in c:\\users\\eduar\\appdata\\local\\programs\\python\\python312\\lib\\site-packages (4.0.1)\n",
      "Requirement already satisfied: Werkzeug>=3.0.0 in c:\\users\\eduar\\appdata\\local\\programs\\python\\python312\\lib\\site-packages (from flask) (3.0.3)\n",
      "Requirement already satisfied: Jinja2>=3.1.2 in c:\\users\\eduar\\appdata\\local\\programs\\python\\python312\\lib\\site-packages (from flask) (3.1.4)\n",
      "Requirement already satisfied: itsdangerous>=2.1.2 in c:\\users\\eduar\\appdata\\local\\programs\\python\\python312\\lib\\site-packages (from flask) (2.2.0)\n",
      "Requirement already satisfied: click>=8.1.3 in c:\\users\\eduar\\appdata\\local\\programs\\python\\python312\\lib\\site-packages (from flask) (8.1.7)\n",
      "Requirement already satisfied: blinker>=1.6.2 in c:\\users\\eduar\\appdata\\local\\programs\\python\\python312\\lib\\site-packages (from flask) (1.8.2)\n",
      "Requirement already satisfied: colorama in c:\\users\\eduar\\appdata\\local\\programs\\python\\python312\\lib\\site-packages (from click>=8.1.3->flask) (0.4.6)\n",
      "Requirement already satisfied: MarkupSafe>=2.0 in c:\\users\\eduar\\appdata\\local\\programs\\python\\python312\\lib\\site-packages (from Jinja2>=3.1.2->flask) (2.1.5)\n"
     ]
    },
    {
     "name": "stderr",
     "output_type": "stream",
     "text": [
      "\n",
      "[notice] A new release of pip is available: 24.1.2 -> 25.0\n",
      "[notice] To update, run: python.exe -m pip install --upgrade pip\n"
     ]
    }
   ],
   "source": [
    "pip install flask flask-cors"
   ]
  },
  {
   "cell_type": "markdown",
   "id": "15c25e9c-e720-4ebe-8b16-2c4826ba5cdf",
   "metadata": {},
   "source": [
    "### Crear Archivos del Proyecto\n",
    "Vamos a simular la estructura del proyecto.\n",
    "Puedes crear la estructura manualmente.\n",
    "En este caso usaremos Python para generar los archivos necesarios.\n"
   ]
  },
  {
   "cell_type": "code",
   "execution_count": 5,
   "id": "595f0efa-11a5-49c3-8604-c2421872fba6",
   "metadata": {},
   "outputs": [
    {
     "name": "stdout",
     "output_type": "stream",
     "text": [
      "Estructura del proyecto creada.\n"
     ]
    }
   ],
   "source": [
    "import os\n",
    "\n",
    "# Crear la estructura de carpetas\n",
    "os.makedirs(\"project/controllers\", exist_ok=True)\n",
    "os.makedirs(\"project/routes\", exist_ok=True)\n",
    "\n",
    "# Crear archivos vacíos\n",
    "files = [\n",
    "    \"project/app.py\",\n",
    "    \"project/config.py\",\n",
    "    \"project/controllers/validation_controllers.py\",\n",
    "    \"project/routes/products_routes.py\",\n",
    "]\n",
    "\n",
    "for file in files:\n",
    "    with open(file, \"w\") as f:\n",
    "        f.write(\"\")\n",
    "\n",
    "print(\"Estructura del proyecto creada.\")"
   ]
  },
  {
   "cell_type": "markdown",
   "id": "fab387a9-99b1-4084-accc-2d5f41a47fb3",
   "metadata": {},
   "source": [
    "## 2. Configuración de Flask y Config.py\n",
    "\n",
    "En el archivo `config.py`, definimos la clase de configuración. \n",
    "Aquí incluimos parámetros como el puerto, modo debug, y claves secretas."
   ]
  },
  {
   "cell_type": "code",
   "execution_count": 6,
   "id": "181490d9-b3d4-48ab-855b-376d79ffc733",
   "metadata": {},
   "outputs": [],
   "source": [
    "class Config:\n",
    "    PORT = 5000 \n",
    "    DB_USER = 'sa'\n",
    "    DB_PORT = 1433\n",
    "    DB_PASSWORD = ''\n",
    "    DB_SERVER = 'localhost'\n",
    "    DB_DATABASE = ''\n",
    "    DB_SERVER_REMOTO = 'localhost'\n",
    "    SECRET='vidmr'"
   ]
  },
  {
   "cell_type": "markdown",
   "id": "b8ecec60-4999-418d-b2cb-0c28a81b985d",
   "metadata": {},
   "source": [
    "## 3. Creación de Controladores\n",
    "\n",
    "En este paso, definimos las funciones para manejar las peticiones relacionadas con el inicio de sesión.\n"
   ]
  },
  {
   "cell_type": "code",
   "execution_count": 7,
   "id": "73b4ba34-13e1-4923-bfeb-354b735b5100",
   "metadata": {},
   "outputs": [],
   "source": [
    "from flask import jsonify, request\n",
    "from db import get_connection\n",
    "\n",
    "def login():\n",
    "    return jsonify({\"message\": \"Mostrar la página de inicio de sesión\"})\n",
    "\n",
    "def access():\n",
    "    data = request.get_json()\n",
    "    # Procesar los datos de inicio de sesión y generar un token de acceso\n",
    "    connection = get_connection()\n",
    "    cursor = connection.cursor()\n",
    "    # Ejecuta consultas SQL para la autenticación si es necesario\n",
    "    cursor.close()\n",
    "    connection.close()\n",
    "    return jsonify({\"message\": \"Proceso de acceso\", \"token\": \"fake-token\"})\n"
   ]
  },
  {
   "cell_type": "markdown",
   "id": "7eaad9da-84f4-4e5e-a676-3ca2475b513b",
   "metadata": {},
   "source": [
    "## 4. Creación de Rutas\n",
    "\n",
    "Las rutas manejan las peticiones HTTP para la API. \n",
    "En este ejemplo, creamos una ruta para listar productos"
   ]
  },
  {
   "cell_type": "code",
   "execution_count": 8,
   "id": "5a561422-fba7-4da7-ab9b-2fc3312473d0",
   "metadata": {},
   "outputs": [],
   "source": [
    "from flask import Blueprint, jsonify, request\n",
    "from db import get_connection\n",
    "\n",
    "products_bp = Blueprint('products_bp', __name__)\n",
    "\n",
    "@products_bp.route('/', methods=['GET'])\n",
    "def get_products():\n",
    "    connection = get_connection()\n",
    "    cursor = connection.cursor()\n",
    "    cursor.execute(\"SELECT * FROM MA_PRODUCTOS\")  \n",
    "    products = cursor.fetchall()\n",
    "    cursor.close()\n",
    "    connection.close()\n",
    "    products_list = [dict(zip([column[0] for column in cursor.description], row)) for row in products]\n",
    "    return jsonify(products_list)\n"
   ]
  },
  {
   "cell_type": "markdown",
   "id": "d4c60c05-7db9-48af-9442-e687c20644ac",
   "metadata": {},
   "source": [
    "## 5. Configuración de la Aplicación Principal\n",
    "\n",
    "Ahora combinamos todo en `app.py`, donde configuramos Flask, registramos rutas y aplicamos middlewares.\n"
   ]
  },
  {
   "cell_type": "code",
   "execution_count": 10,
   "id": "d53b4fb8-81b6-4302-8636-606ee1781b56",
   "metadata": {},
   "outputs": [],
   "source": [
    "from flask import Flask, request, jsonify\n",
    "from config import Config\n",
    "from routes.products_routes import products_bp\n",
    "from controllers.validation_controllers import login, access\n",
    "from flask_cors import CORS\n",
    "\n",
    "app = Flask(__name__)\n",
    "app.config.from_object(Config)\n"
   ]
  },
  {
   "cell_type": "markdown",
   "id": "70ac69ec-b795-4c26-8fc3-bf714690cecb",
   "metadata": {},
   "source": [
    "# Configuración de CORS"
   ]
  },
  {
   "cell_type": "code",
   "execution_count": null,
   "id": "bbd7492b-9fe5-4e13-b66b-9dc0aa669bb3",
   "metadata": {},
   "outputs": [],
   "source": [
    "cors = CORS(app, resources={r\"/api/*\": {\"origins\": \"https://www.example.com\"}}, methods=['GET', 'POST'])"
   ]
  },
  {
   "cell_type": "markdown",
   "id": "940a23f9-fe80-4e4c-9ded-5a53705a6251",
   "metadata": {},
   "source": [
    "# Middleware para limitar métodos HTTP"
   ]
  },
  {
   "cell_type": "code",
   "execution_count": 11,
   "id": "6e386245-7dbc-4491-a54f-54b992cc9aa5",
   "metadata": {},
   "outputs": [],
   "source": [
    "@app.before_request\n",
    "def limit_http_methods():\n",
    "    if request.method not in ['GET', 'POST']:\n",
    "        return jsonify({\"message\": \"Method Not Allowed\"}), 405"
   ]
  },
  {
   "cell_type": "markdown",
   "id": "3e5712da-be64-4603-b4a2-1dc43f230632",
   "metadata": {},
   "source": [
    "# Middleware para limitar el dominio de acceso"
   ]
  },
  {
   "cell_type": "code",
   "execution_count": 12,
   "id": "090e56ac-1072-41f7-8ed0-16327d303c2d",
   "metadata": {},
   "outputs": [],
   "source": [
    "@app.after_request\n",
    "def limit_access_domain(response):\n",
    "    response.headers['Access-Control-Allow-Origin'] = 'https://www.example.com'\n",
    "    response.headers['Access-Control-Allow-Methods'] = 'GET, POST'\n",
    "    response.headers['Access-Control-Allow-Headers'] = 'Content-Type, Authorization'\n",
    "    return response"
   ]
  },
  {
   "cell_type": "markdown",
   "id": "29f564fe-1aef-440f-8f31-2c9bffdf9ab1",
   "metadata": {},
   "source": [
    "# Configuración de rutas"
   ]
  },
  {
   "cell_type": "code",
   "execution_count": null,
   "id": "79da77e9-655a-4314-a938-06e7d4cfff7e",
   "metadata": {},
   "outputs": [],
   "source": [
    "app.register_blueprint(products_bp, url_prefix='/api/v1/service')"
   ]
  },
  {
   "cell_type": "markdown",
   "id": "ab444598-e1e4-48da-be47-b7bee0976d0c",
   "metadata": {},
   "source": [
    "# Ruta GET para mostrar la página de inicio de sesión"
   ]
  },
  {
   "cell_type": "code",
   "execution_count": null,
   "id": "2f92e941-29b4-4af3-aeeb-06a01897206f",
   "metadata": {},
   "outputs": [],
   "source": [
    "@app.route('*', methods=['GET'])\n",
    "def show_login():\n",
    "    return login()"
   ]
  },
  {
   "cell_type": "markdown",
   "id": "b4c442c8-ca8a-4688-9a17-a57c287113b7",
   "metadata": {},
   "source": [
    "# Ruta POST para procesar el inicio de sesión y generar un token de acceso"
   ]
  },
  {
   "cell_type": "code",
   "execution_count": null,
   "id": "9c0679a8-8361-4f47-93a6-64a22f77e4db",
   "metadata": {
    "vscode": {
     "languageId": "plaintext"
    }
   },
   "outputs": [],
   "source": [
    "@app.route('/access', methods=['POST'])\n",
    "def process_access():\n",
    "    return access()\n",
    "\n",
    "if __name__ == '__main__':\n",
    "    app.run(port=app.config['PORT'])"
   ]
  }
 ],
 "metadata": {
  "kernelspec": {
   "display_name": "Python 3 (ipykernel)",
   "language": "python",
   "name": "python3"
  },
  "language_info": {
   "codemirror_mode": {
    "name": "ipython",
    "version": 3
   },
   "file_extension": ".py",
   "mimetype": "text/x-python",
   "name": "python",
   "nbconvert_exporter": "python",
   "pygments_lexer": "ipython3",
   "version": "3.12.4"
  }
 },
 "nbformat": 4,
 "nbformat_minor": 5
}
